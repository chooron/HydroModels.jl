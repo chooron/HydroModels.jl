{
 "cells": [
  {
   "cell_type": "markdown",
   "metadata": {},
   "source": [
    "# HydroBucket 模型测试\n",
    "\n",
    "这个 notebook 展示了 HydroBucket 水文模型的基本使用方法，包括：\n",
    "- 单节点模型的设置和运行\n",
    "- 多节点模型的设置和运行\n",
    "- 参数梯度计算示例"
   ]
  },
  {
   "cell_type": "markdown",
   "metadata": {},
   "source": [
    "## 导入必要的包"
   ]
  },
  {
   "cell_type": "code",
   "execution_count": null,
   "metadata": {},
   "outputs": [
    {
     "name": "stderr",
     "output_type": "stream",
     "text": [
      "\u001b[32m\u001b[1m  Activating\u001b[22m\u001b[39m project at `e:\\JlCode\\HydroModels\\docs\\notebook`\n"
     ]
    },
    {
     "ename": "LoadError",
     "evalue": "LoadError: UndefVarError: `Num` not defined in `Main`\nSuggestion: check for spelling errors or missing imports.\nHint: a global variable of this name may be made accessible by importing Symbolics in the current active module Main\nHint: a global variable of this name may be made accessible by importing ModelingToolkit in the current active module Main\nin expression starting at e:\\JlCode\\HydroModels\\docs\\notebook\\models\\exphydro.jl:8",
     "output_type": "error",
     "traceback": [
      "LoadError: UndefVarError: `Num` not defined in `Main`\n",
      "Suggestion: check for spelling errors or missing imports.\n",
      "Hint: a global variable of this name may be made accessible by importing Symbolics in the current active module Main\n",
      "Hint: a global variable of this name may be made accessible by importing ModelingToolkit in the current active module Main\n",
      "in expression starting at e:\\JlCode\\HydroModels\\docs\\notebook\\models\\exphydro.jl:8\n",
      "\n",
      "Stacktrace:\n",
      " [1] macro expansion\n",
      "   @ D:\\Julia\\packages\\dev\\HydroModels\\src\\flux.jl:548 [inlined]\n",
      " [2] top-level scope\n",
      "   @ D:\\Julia\\packages\\dev\\HydroModels\\src\\bucket.jl:123"
     ]
    }
   ],
   "source": [
    "using Pkg\n",
    "Pkg.activate(\".\")\n",
    "Pkg.precompile(\"HydroModels\")\n",
    "\n",
    "using CSV\n",
    "using DataFrames\n",
    "using ComponentArrays\n",
    "using HydroModels"
   ]
  },
  {
   "cell_type": "markdown",
   "metadata": {},
   "source": [
    "## 创建模型"
   ]
  },
  {
   "cell_type": "code",
   "execution_count": null,
   "metadata": {},
   "outputs": [],
   "source": [
    "step_func(x) = (tanh(5.0 * x) + 1.0) * 0.5\n",
    "# define variables and parameters\n",
    "@variables temp lday pet prcp snowfall rainfall snowpack melt\n",
    "@parameters Tmin Tmax Df Smax Qmax f\n",
    "\n",
    "# define model components\n",
    "snow_bucket = @hydrobucket :surface begin\n",
    "    fluxes = begin\n",
    "        @hydroflux begin\n",
    "            snowfall ~ step_func(Tmin - temp) * prcp\n",
    "            rainfall ~ step_func(temp - Tmin) * prcp\n",
    "        end\n",
    "        @hydroflux melt ~ step_func(temp - Tmax) * step_func(snowpack) * min(snowpack, Df * (temp - Tmax))\n",
    "        @hydroflux pet ~ 29.8 * lday * 24 * 0.611 * exp((17.3 * temp) / (temp + 237.3)) / (temp + 273.2)\n",
    "    end\n",
    "    dfluxes = begin\n",
    "        @stateflux snowpack ~ snowfall - melt\n",
    "    end\n",
    "end"
   ]
  },
  {
   "cell_type": "markdown",
   "metadata": {},
   "source": [
    "## 模型参数设置\n",
    "\n",
    "下面我们设置模型的基本参数：\n",
    "- f: 渗透系数\n",
    "- Smax: 最大存储容量\n",
    "- Qmax: 最大流量\n",
    "- Df: 扩散系数\n",
    "- Tmax: 最高温度阈值\n",
    "- Tmin: 最低温度阈值"
   ]
  },
  {
   "cell_type": "code",
   "execution_count": null,
   "metadata": {},
   "outputs": [],
   "source": [
    "# 创建参数向量\n",
    "params = ComponentVector(f=0.0167, Smax=1709.461, Qmax=18.469, Df=2.6745, Tmax=0.1757, Tmin=-2.0929)\n",
    "init_states = ComponentVector(snowpack=100.0)\n",
    "pas = ComponentVector(params=params, initstates=init_states)\n",
    "\n",
    "# 读取输入数据\n",
    "file_path = \"../data/exphydro/01013500.csv\"\n",
    "data = CSV.File(file_path)\n",
    "df = DataFrame(data)\n",
    "ts = collect(1:10000)\n",
    "\n",
    "# 准备单节点输入数据\n",
    "input = (lday=df[ts, \"dayl(day)\"], temp=df[ts, \"tmean(C)\"], prcp=df[ts, \"prcp(mm/day)\"])\n",
    "input_arr = reduce(hcat, collect(input[HydroModels.get_input_names(ele)])) |> permutedims"
   ]
  },
  {
   "cell_type": "code",
   "execution_count": null,
   "metadata": {},
   "outputs": [],
   "source": [
    "# 创建单节点模型\n",
    "single_ele = HydroBucket(name=:surface, fluxes=fluxes_1, dfluxes=dfluxes_1)\n",
    "\n",
    "# 运行模型\n",
    "result = single_ele(input_arr, pas)"
   ]
  }
 ],
 "metadata": {
  "kernelspec": {
   "display_name": "Julia 1.11.2",
   "language": "julia",
   "name": "julia-1.11"
  },
  "language_info": {
   "file_extension": ".jl",
   "mimetype": "application/julia",
   "name": "julia",
   "version": "1.11.2"
  }
 },
 "nbformat": 4,
 "nbformat_minor": 2
}
